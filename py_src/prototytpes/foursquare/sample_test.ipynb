{
 "cells": [
  {
   "cell_type": "code",
   "execution_count": null,
   "id": "1f1b75f7-0152-43ec-bc65-37b12b24c4b6",
   "metadata": {},
   "outputs": [],
   "source": [
    "#get current coordinates\n",
    "\n",
    "import requests\n",
    "\n",
    "response = requests.get(\"https://ipinfo.io/json\")\n",
    "data = response.json()\n",
    "\n",
    "location = data[\"loc\"].split(\",\")\n",
    "lat, lon = location[0], location[1]\n",
    "\n",
    "print('location : lat : ', lat , '...lon .. ',lon)"
   ]
  },
  {
   "cell_type": "code",
   "execution_count": null,
   "id": "a61b2632-197e-4091-8f01-e78907f06196",
   "metadata": {},
   "outputs": [],
   "source": [
    "#call to 4sqaure:\n",
    "\n",
    "url = \"https://api.foursquare.com/v3/places/seach\"\n",
    "headers = {\n",
    "    \n",
    "}\n",
    "\n",
    "lat_lon_string = '{},{}'.format(lat,lon)\n",
    "\n",
    "params = {\n",
    "    \"ll\": lat_lon_string,  # lat,long\n",
    "    \"query\": \"grocery\",\n",
    "    \"limit\": 5\n",
    "}\n",
    "\n",
    "response = requests.get(url, headers=headers, params=params)\n",
    "\n",
    "print(response)\n",
    "data = response.json()\n",
    "\n",
    "\n",
    "\n",
    "# for place in data[\"results\"]:\n",
    "#     print(place[\"name\"], \"-\", place[\"location\"][\"address\"])"
   ]
  },
  {
   "cell_type": "code",
   "execution_count": null,
   "id": "a7e7208f-1bbe-436f-b52b-3608d054dd39",
   "metadata": {},
   "outputs": [],
   "source": [
    "import requests\n",
    "\n",
    "url = \"https://places-api.foursquare.com/places/search\"\n",
    "\n",
    "headers = {\n",
    "    \"accept\": \"application/json\",\n",
    "    \"Authorization\": \"Bearer <<token>>\",\n",
    "    \"X-Places-Api-Version\": \"2025-06-17\"\n",
    "}\n",
    "\n",
    "params = {\n",
    "    \"ll\": lat_lon_string,  # lat,long\n",
    "    \"query\": \"grocery\",\n",
    "    \"limit\": 5\n",
    "}\n",
    "\n",
    "response = requests.get(url, headers=headers, params=params)\n",
    "\n",
    "print(response.text)"
   ]
  },
  {
   "cell_type": "code",
   "execution_count": null,
   "id": "6535b748-dd69-42e7-8312-9e4c1cdb9b7d",
   "metadata": {},
   "outputs": [],
   "source": [
    "## google places"
   ]
  },
  {
   "cell_type": "code",
   "execution_count": 2,
   "id": "470e9a3b-2a94-4857-b9fe-9cde94eb2f40",
   "metadata": {},
   "outputs": [
    {
     "name": "stdout",
     "output_type": "stream",
     "text": [
      "Status: 200\n",
      "Response: {'places': [{'displayName': {'text': 'Iyer Idly Vignana Nagar', 'languageCode': 'en'}}, {'displayName': {'text': 'SouperIdli', 'languageCode': 'en'}}, {'displayName': {'text': 'Roti Satkar', 'languageCode': 'en'}}, {'displayName': {'text': 'Kuttanadan Kerala Hotel & Mess (Hotel Tharavadu)', 'languageCode': 'en'}}, {'displayName': {'text': 'Shell', 'languageCode': 'en'}}, {'displayName': {'text': 'Shree Murugan Idly Shop', 'languageCode': 'en'}}, {'displayName': {'text': 'Tawakkal Mubarak Hotel', 'languageCode': 'en'}}, {'displayName': {'text': 'KFC', 'languageCode': 'en'}}, {'displayName': {'text': 'Biryani Zest', 'languageCode': 'en'}}, {'displayName': {'text': 'Kabab Souq', 'languageCode': 'en'}}]}\n"
     ]
    }
   ],
   "source": [
    "import requests\n",
    "\n",
    "url = \"https://places.googleapis.com/v1/places:searchNearby\"  # adjust if needed\n",
    "\n",
    "headers = {\n",
    "    \"Accept\": \"application/json\",\n",
    "    \"X-Goog-Api-Key\": \"<<key>>\",  # <-- replace with your key\n",
    "    \"Content-Type\": \"application/json\",\n",
    "    \"X-Goog-FieldMask\": \"places.displayName\"\n",
    "}\n",
    "\n",
    "payload = {\n",
    "   \"includedTypes\": [\"restaurant\"],\n",
    "    \"maxResultCount\": 10,\n",
    "    \"locationRestriction\": {\n",
    "        \"circle\": {\n",
    "            \"center\": {\n",
    "                \"latitude\": 12.967494166122572,\n",
    "                \"longitude\": 77.68235616771426\n",
    "            },\n",
    "            \"radius\": 1500.0\n",
    "        }\n",
    "    }\n",
    "}\n",
    "\n",
    "response = requests.post(url, headers=headers, json=payload)\n",
    "\n",
    "print(\"Status:\", response.status_code)\n",
    "print(\"Response:\", response.json())"
   ]
  }
 ],
 "metadata": {
  "kernelspec": {
   "display_name": "Python 3 (ipykernel)",
   "language": "python",
   "name": "python3"
  },
  "language_info": {
   "codemirror_mode": {
    "name": "ipython",
    "version": 3
   },
   "file_extension": ".py",
   "mimetype": "text/x-python",
   "name": "python",
   "nbconvert_exporter": "python",
   "pygments_lexer": "ipython3",
   "version": "3.13.5"
  }
 },
 "nbformat": 4,
 "nbformat_minor": 5
}
