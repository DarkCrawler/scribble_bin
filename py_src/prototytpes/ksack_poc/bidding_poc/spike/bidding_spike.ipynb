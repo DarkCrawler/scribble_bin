{
 "cells": [
  {
   "cell_type": "code",
   "execution_count": null,
   "id": "1c3ce5e0-3c7d-4866-b6e3-50b526d12847",
   "metadata": {},
   "outputs": [],
   "source": [
    "!pip install pandas"
   ]
  },
  {
   "cell_type": "code",
   "execution_count": null,
   "id": "c4d262fe-5a36-4427-970c-b736a5ef6a78",
   "metadata": {},
   "outputs": [],
   "source": [
    "!pip install openpyxl"
   ]
  },
  {
   "cell_type": "code",
   "execution_count": null,
   "id": "e24d4381-72e6-4e0f-9cc1-dc25b31eefeb",
   "metadata": {},
   "outputs": [],
   "source": [
    "!pip install tabulate"
   ]
  },
  {
   "cell_type": "code",
   "execution_count": null,
   "id": "7250c89b-6cbd-4e59-85b2-bb2b760236d5",
   "metadata": {},
   "outputs": [],
   "source": [
    "import pandas as pd"
   ]
  },
  {
   "cell_type": "code",
   "execution_count": null,
   "id": "4f1da40c-78f5-4e1c-b9fa-6e3f73877065",
   "metadata": {},
   "outputs": [],
   "source": [
    "import numpy as np"
   ]
  },
  {
   "cell_type": "code",
   "execution_count": null,
   "id": "5dd55ef4-9721-42b1-b711-f24c972a6383",
   "metadata": {},
   "outputs": [],
   "source": [
    "from tabulate import tabulate"
   ]
  },
  {
   "cell_type": "code",
   "execution_count": null,
   "id": "82963003-e51e-41ac-9b96-fb05cb86bc3e",
   "metadata": {},
   "outputs": [],
   "source": [
    "#reading sample compute xls\n",
    "df = pd.read_excel('sample_compute.xlsx', sheet_name=1, header=1)"
   ]
  },
  {
   "cell_type": "code",
   "execution_count": null,
   "id": "fae168f9-17e2-469d-9c53-3bcd779cfb31",
   "metadata": {},
   "outputs": [],
   "source": [
    "df.info()"
   ]
  },
  {
   "cell_type": "code",
   "execution_count": null,
   "id": "9a46ae08-f615-40b7-a866-3c5f36ccb0aa",
   "metadata": {},
   "outputs": [],
   "source": [
    "print(df.head())"
   ]
  },
  {
   "cell_type": "code",
   "execution_count": null,
   "id": "056d2ca5-40a3-4dd8-9e8c-8e5c70adbc2a",
   "metadata": {},
   "outputs": [],
   "source": [
    "selected_columns = [\"Order Ref\", \"Passenger Count\", \"Bid Value\",\"Normalized Bid Price\"]\n",
    "rename_dict = {\"Order Ref\": \"order_id\", \"Passenger Count\": \"pax_count\", \"Bid Value\": \"bid_value\",\"Normalized Bid Price\":\"norm_bid_price\"}"
   ]
  },
  {
   "cell_type": "code",
   "execution_count": null,
   "id": "bbd7ca11-8289-4ee7-a5b1-2a64e6008976",
   "metadata": {},
   "outputs": [],
   "source": [
    "df_selected = df[selected_columns].rename(columns=rename_dict)"
   ]
  },
  {
   "cell_type": "code",
   "execution_count": null,
   "id": "0772b515-5cb5-4ddc-8bd8-f2ba9a6243d7",
   "metadata": {},
   "outputs": [],
   "source": [
    "df_selected['total_bid_value'] = df_selected['pax_count'] * df_selected['bid_value']"
   ]
  },
  {
   "cell_type": "code",
   "execution_count": null,
   "id": "646184c5-a713-41b3-a638-656b71e5b887",
   "metadata": {},
   "outputs": [],
   "source": [
    "df_selected['total_norm_bid_value'] = df_selected['pax_count'] * df_selected['norm_bid_price']"
   ]
  },
  {
   "cell_type": "code",
   "execution_count": null,
   "id": "856a4295-860b-4779-9f0d-3571e3c0bc3c",
   "metadata": {},
   "outputs": [],
   "source": [
    "df_selected.info()"
   ]
  },
  {
   "cell_type": "code",
   "execution_count": null,
   "id": "364a70e5-b612-4a8b-843b-f42f7bc3b7ae",
   "metadata": {},
   "outputs": [],
   "source": [
    "print(tabulate(df_selected, headers='keys', tablefmt='psql'))"
   ]
  },
  {
   "cell_type": "code",
   "execution_count": null,
   "id": "8b6f4300-d938-48ef-a505-39730f5476c6",
   "metadata": {},
   "outputs": [],
   "source": [
    "stock_inventory = 4 #bag_size"
   ]
  },
  {
   "cell_type": "markdown",
   "id": "dc992b54-4142-4b1f-9ac8-bafc7e6a4713",
   "metadata": {},
   "source": [
    "# Core knapsack  implementation "
   ]
  },
  {
   "cell_type": "code",
   "execution_count": null,
   "id": "4c7da592-91ab-4c80-bede-d7d2ba9340d0",
   "metadata": {},
   "outputs": [],
   "source": [
    "def knapsack_from_dataframe(df, max_capacity):\n",
    "     n = len(df)\n",
    "     values = df[\"total_norm_bid_value\"].tolist()\n",
    "     weights = df[\"pax_count\"].tolist()\n",
    "     items = df[\"order_id\"].tolist()\n",
    "     dp = np.zeros((n + 1, max_capacity + 1))\n",
    "     print(type(dp))\n",
    "     print(dp)\n",
    "\n",
    "    # Fill DP table\n",
    "     for i in range(1, n + 1):\n",
    "        for w in range(1, max_capacity + 1):\n",
    "            if weights[i - 1] <= w:\n",
    "                dp[i][w] = max(dp[i - 1][w], dp[i - 1][w - weights[i - 1]] + values[i - 1])\n",
    "            else:\n",
    "                dp[i][w] = dp[i - 1][w]\n",
    "     print(dp)\n",
    "    \n",
    "    # Traceback to find selected items\n",
    "     w = max_capacity\n",
    "     selected_items = []\n",
    "     for i in range(n, 0, -1):\n",
    "        if dp[i][w] != dp[i - 1][w]:  # Item was included\n",
    "            selected_items.append(items[i - 1])\n",
    "            w -= weights[i - 1]\n",
    "\n",
    "     df_selected = df[df[\"order_id\"].isin(selected_items)].reset_index(drop=True)\n",
    "\n",
    "     return df_selected, dp[n][max_capacity]  # Return selected items and max value\n",
    "             \n",
    "    "
   ]
  },
  {
   "cell_type": "markdown",
   "id": "01d84ad0-7076-442f-9d7a-da673278167f",
   "metadata": {},
   "source": [
    "#notes for self \n",
    "? what is dp table \n",
    "creates a Dynamic Programming (DP) table for solving the 0/1 Knapsack problem using bottom-up dynamic programming.\n",
    "Breaking It Down\n",
    "n + 1: Rows → Represents items (0 to n)\n",
    "max_capacity + 1: Columns → Represents weight limits (0 to max_capacity)\n",
    "np.zeros(...): Creates a 2D array filled with zeros to store intermediate results\n",
    "\n",
    "Why Use a DP Table?\n",
    "The DP table helps us store and reuse previously computed values, avoiding redundant calculations.\n",
    "Each cell dp[i][w] stores the maximum value possible using the first i items within weight w.\n",
    "\n",
    "    How Does It Get Filled?\n",
    "dp[i][w] is updated iteratively based on:\n",
    "Including the item (value[i] + dp[i-1][w-weight[i]])\n",
    "Excluding the item (dp[i-1][w])\n",
    "Taking the maximum of both\n",
    "\n",
    "Example Update Process\n",
    "Let's assume:\n",
    "\n",
    "We have items: [(Value=60, Weight=10), (Value=100, Weight=20)]\n",
    "max_capacity = 30\n",
    "The DP table gets filled row by row, considering each item one by one.\n",
    "After filling, the last cell (dp[n][max_capacity]) contains the maximum value that can be obtained.\n"
   ]
  },
  {
   "cell_type": "code",
   "execution_count": null,
   "id": "04aa55d2-ddc6-41fa-bd01-a9f5ff91d4d0",
   "metadata": {},
   "outputs": [],
   "source": [
    "df_sack = knapsack_from_dataframe(df_selected,stock_inventory)"
   ]
  },
  {
   "cell_type": "code",
   "execution_count": null,
   "id": "6382785e-3225-4817-9fbb-d9c7244f465d",
   "metadata": {},
   "outputs": [],
   "source": [
    "type(df_sack)"
   ]
  },
  {
   "cell_type": "code",
   "execution_count": null,
   "id": "c932ff1a-6ab7-4907-8967-541a9ac29274",
   "metadata": {},
   "outputs": [],
   "source": [
    "print(df_sack)"
   ]
  },
  {
   "cell_type": "code",
   "execution_count": null,
   "id": "3d3ee7fa-1305-4b98-b116-daf4ab3017d4",
   "metadata": {},
   "outputs": [],
   "source": [
    "for item in df_sack:\n",
    "    print (item)"
   ]
  },
  {
   "cell_type": "markdown",
   "id": "a0be4c62-5328-4f7f-9aca-4cc6071e89eb",
   "metadata": {},
   "source": [
    "#  CORE ORCHESTRATION "
   ]
  },
  {
   "cell_type": "code",
   "execution_count": null,
   "id": "2a902eda-e949-4862-8bb8-17f665c8cb9f",
   "metadata": {},
   "outputs": [],
   "source": [
    "sample_request_dict = {'bids': [{'bid_order_id': 'BID001', 'fare_basis_code': 'FLEX', 'purchase_history': '0', 'bid_value': '1121', 'pax_fft': 'GOLD', 'pax_count': '2'}, {'bid_order_id': 'BID002', 'fare_basis_code': 'CHOICE', 'purchase_history': '2', 'bid_value': '1305', 'pax_fft': 'SILVER', 'pax_count': '3'}, {'bid_order_id': 'BID003', 'fare_basis_code': 'SAVER', 'purchase_history': '3', 'bid_value': '1333', 'pax_fft': 'GOLD', 'pax_count': '1'}, {'bid_order_id': 'BID004', 'fare_basis_code': 'FLEX', 'purchase_history': '1', 'bid_value': '1183', 'pax_fft': 'NO FFT', 'pax_count': '2'}, {'bid_order_id': 'BID005', 'fare_basis_code': 'SAVER', 'purchase_history': '5', 'bid_value': '1120', 'pax_fft': 'SILVER', 'pax_count': '1'}, {'bid_order_id': 'BID006', 'fare_basis_code': 'FLEX', 'purchase_history': '0', 'bid_value': '1460', 'pax_fft': 'NO FFT', 'pax_count': '1'}, {'bid_order_id': 'BID007', 'fare_basis_code': 'CHOICE', 'purchase_history': '0', 'bid_value': '1084', 'pax_fft': 'NO FFT', 'pax_count': '1'}], 'stock_limit': '4'}\n",
    "pdf = pd.DataFrame(sample_request_dict['bids'])"
   ]
  },
  {
   "cell_type": "code",
   "execution_count": null,
   "id": "72de7238-bd43-464c-9186-72b65061ea16",
   "metadata": {},
   "outputs": [],
   "source": [
    "pdf[\"purchase_history\"] = pdf[\"purchase_history\"].astype(int)\n",
    "pdf[\"bid_value\"] = pdf[\"bid_value\"].astype(float)\n",
    "pdf[\"pax_count\"] = pdf[\"pax_count\"].astype(int)\n"
   ]
  },
  {
   "cell_type": "code",
   "execution_count": null,
   "id": "eaa53364-b3b9-4b47-8853-e84197743037",
   "metadata": {},
   "outputs": [],
   "source": [
    "print(pdf.columns)\n",
    "pdf.info()"
   ]
  },
  {
   "cell_type": "code",
   "execution_count": null,
   "id": "66284e0e-da7e-4d26-a9bf-7a32c40c0881",
   "metadata": {},
   "outputs": [],
   "source": [
    "print(tabulate(pdf, headers='keys', tablefmt='psql'))"
   ]
  },
  {
   "cell_type": "code",
   "execution_count": null,
   "id": "602ce585-5eaa-42aa-be21-e7fb82dbcc6e",
   "metadata": {},
   "outputs": [],
   "source": [
    "fft_score_df = pd.DataFrame({\n",
    "    \"pax_fft\": [\"GOLD\", \"SILVER\", \"NO FFT\"],\n",
    "    \"fft_score\": [1.2, 1.1, 1.0]\n",
    "})\n",
    "\n",
    "fbc_score_df = pd.DataFrame({\n",
    "    \"fare_basis_code\": [\"FLEX\", \"CHOICE\", \"SAVER\"],\n",
    "    \"fbc_score\": [1.1, 1.05, 1.0]\n",
    "})\n",
    "\n",
    "past_purchase_score = pd.DataFrame({\n",
    "    'min': [0, 1, 4],\n",
    "    'max': [0, 3, 9999],\n",
    "    'score': [1, 0.8, 0.5]\n",
    "})"
   ]
  },
  {
   "cell_type": "code",
   "execution_count": null,
   "id": "c6b149d2-039c-4cce-9b53-257e3b9f9554",
   "metadata": {},
   "outputs": [],
   "source": [
    "def assign_pph_score(val):\n",
    "    row = past_purchase_score[(past_purchase_score['min'] <= val) & (past_purchase_score['max'] >= val)]\n",
    "    return row['score'].values[0] if not row.empty else None  # Returns None if no match\n"
   ]
  },
  {
   "cell_type": "code",
   "execution_count": null,
   "id": "b05d153d-b9f9-4a58-90fc-4bd8409c839c",
   "metadata": {},
   "outputs": [],
   "source": [
    "# joing with fft_score\n",
    "pdf = pdf.merge(fft_score_df, on=\"pax_fft\", how=\"left\")\n",
    "\n",
    "# joing with fbc_score\n",
    "pdf = pdf.merge(fbc_score_df, on=\"fare_basis_code\", how=\"left\")\n"
   ]
  },
  {
   "cell_type": "code",
   "execution_count": null,
   "id": "0cbc3ec3-0919-4db6-8fbb-ac0591527fc6",
   "metadata": {},
   "outputs": [],
   "source": []
  },
  {
   "cell_type": "code",
   "execution_count": null,
   "id": "c87a640c-a4c8-437d-b897-af8cd55ba3a3",
   "metadata": {},
   "outputs": [],
   "source": [
    "# using function to assign \n",
    "pdf['ph_score'] = pdf['purchase_history'].apply(assign_pph_score)\n"
   ]
  },
  {
   "cell_type": "code",
   "execution_count": null,
   "id": "91c8e387-49bc-4d59-8d4a-b0da682eb432",
   "metadata": {},
   "outputs": [],
   "source": [
    "# creation of normalized_bid_val\n",
    "pdf['bid_normalized_score'] = np.round(pdf[['fft_score', 'fbc_score', 'ph_score', 'bid_value']].prod(axis=1), 0).astype(int)"
   ]
  },
  {
   "cell_type": "code",
   "execution_count": null,
   "id": "2aad1b46-1fce-4cf7-97e7-336c637ee159",
   "metadata": {},
   "outputs": [],
   "source": [
    "pdf['total_normalized_bid'] = pdf['pax_count'] * pdf['bid_normalized_score']"
   ]
  },
  {
   "cell_type": "code",
   "execution_count": 201,
   "id": "8ada5846-5044-4350-bcee-a861962e667a",
   "metadata": {},
   "outputs": [],
   "source": [
    "pdf['total_bid_amount'] = pdf['pax_count'] * pdf['bid_value']"
   ]
  },
  {
   "cell_type": "code",
   "execution_count": null,
   "id": "1d1d84d7-dd26-4982-81a9-8c8b56ceb566",
   "metadata": {},
   "outputs": [],
   "source": [
    "pdf['bid_priority_score'] = pdf['total_normalized_bid'].rank(ascending=False, method='dense').astype(int)"
   ]
  },
  {
   "cell_type": "code",
   "execution_count": null,
   "id": "205c56b1-4773-4a89-a946-66943d1c61ef",
   "metadata": {},
   "outputs": [],
   "source": [
    "selected_columns = ['bid_order_id', 'total_normalized_bid', 'bid_priority_score','pax_count']\n",
    "\n",
    "print(tabulate(pdf[selected_columns], headers='keys', tablefmt='pretty'))\n"
   ]
  },
  {
   "cell_type": "code",
   "execution_count": 222,
   "id": "069e04d3-7d10-48e9-bca8-5197ac254302",
   "metadata": {},
   "outputs": [],
   "source": [
    "def ksack_new(df, max_capacity):\n",
    "     n = len(df)\n",
    "     values = df[\"total_normalized_bid\"].tolist()\n",
    "     weights = df[\"pax_count\"].tolist()\n",
    "     items = df[\"bid_order_id\"].tolist()\n",
    "     dp = np.zeros((n + 1, max_capacity + 1))\n",
    "     print(type(dp))\n",
    "     print(dp)\n",
    "\n",
    "    # Fill DP table\n",
    "     for i in range(1, n + 1):\n",
    "        for w in range(1, max_capacity + 1):\n",
    "            if weights[i - 1] <= w:\n",
    "                dp[i][w] = max(dp[i - 1][w], dp[i - 1][w - weights[i - 1]] + values[i - 1])\n",
    "            else:\n",
    "                dp[i][w] = dp[i - 1][w]\n",
    "     print(dp)\n",
    "    \n",
    "    # Traceback to find selected items\n",
    "     w = max_capacity\n",
    "     selected_items = []\n",
    "     for i in range(n, 0, -1):\n",
    "        if dp[i][w] != dp[i - 1][w]:  # Item was included\n",
    "            selected_items.append(items[i - 1])\n",
    "            w -= weights[i - 1]\n",
    "\n",
    "     df_selected = df[df[\"bid_order_id\"].isin(selected_items)].reset_index(drop=True)\n",
    "\n",
    "     return df_selected, dp[n][max_capacity]  # Return selected items and max value\n",
    "           "
   ]
  },
  {
   "cell_type": "code",
   "execution_count": 223,
   "id": "7a7a01fb-4887-485a-9342-47de933eba29",
   "metadata": {},
   "outputs": [
    {
     "name": "stdout",
     "output_type": "stream",
     "text": [
      "<class 'numpy.ndarray'>\n",
      "[[0. 0. 0. 0. 0.]\n",
      " [0. 0. 0. 0. 0.]\n",
      " [0. 0. 0. 0. 0.]\n",
      " [0. 0. 0. 0. 0.]\n",
      " [0. 0. 0. 0. 0.]\n",
      " [0. 0. 0. 0. 0.]\n",
      " [0. 0. 0. 0. 0.]\n",
      " [0. 0. 0. 0. 0.]]\n",
      "[[   0.    0.    0.    0.    0.]\n",
      " [   0.    0. 2960. 2960. 2960.]\n",
      " [   0.    0. 2960. 3618. 3618.]\n",
      " [   0. 1280. 2960. 4240. 4898.]\n",
      " [   0. 1280. 2960. 4240. 5042.]\n",
      " [   0. 1280. 2960. 4240. 5042.]\n",
      " [   0. 1606. 2960. 4566. 5846.]\n",
      " [   0. 1606. 2960. 4566. 5846.]]\n"
     ]
    }
   ],
   "source": [
    "ksak_val = ksack_new(pdf,4)"
   ]
  },
  {
   "cell_type": "code",
   "execution_count": 224,
   "id": "1a6de644-8a07-4150-8887-62100ea2e790",
   "metadata": {},
   "outputs": [
    {
     "name": "stdout",
     "output_type": "stream",
     "text": [
      "<class 'pandas.core.frame.DataFrame'>\n",
      "RangeIndex: 3 entries, 0 to 2\n",
      "Data columns (total 13 columns):\n",
      " #   Column                Non-Null Count  Dtype  \n",
      "---  ------                --------------  -----  \n",
      " 0   bid_order_id          3 non-null      object \n",
      " 1   fare_basis_code       3 non-null      object \n",
      " 2   purchase_history      3 non-null      int64  \n",
      " 3   bid_value             3 non-null      float64\n",
      " 4   pax_fft               3 non-null      object \n",
      " 5   pax_count             3 non-null      int64  \n",
      " 6   fft_score             3 non-null      float64\n",
      " 7   fbc_score             3 non-null      float64\n",
      " 8   ph_score              3 non-null      float64\n",
      " 9   bid_normalized_score  3 non-null      int64  \n",
      " 10  total_normalized_bid  3 non-null      int64  \n",
      " 11  bid_priority_score    3 non-null      int64  \n",
      " 12  total_bid_amount      3 non-null      float64\n",
      "dtypes: float64(5), int64(5), object(3)\n",
      "memory usage: 440.0+ bytes\n"
     ]
    }
   ],
   "source": [
    "ksak_val[0].info()"
   ]
  },
  {
   "cell_type": "code",
   "execution_count": 202,
   "id": "fb08972d-2e0f-4bb7-ab8a-da11caec8f59",
   "metadata": {},
   "outputs": [
    {
     "data": {
      "text/html": [
       "<div>\n",
       "<style scoped>\n",
       "    .dataframe tbody tr th:only-of-type {\n",
       "        vertical-align: middle;\n",
       "    }\n",
       "\n",
       "    .dataframe tbody tr th {\n",
       "        vertical-align: top;\n",
       "    }\n",
       "\n",
       "    .dataframe thead th {\n",
       "        text-align: right;\n",
       "    }\n",
       "</style>\n",
       "<table border=\"1\" class=\"dataframe\">\n",
       "  <thead>\n",
       "    <tr style=\"text-align: right;\">\n",
       "      <th></th>\n",
       "      <th>bid_order_id</th>\n",
       "      <th>fare_basis_code</th>\n",
       "      <th>purchase_history</th>\n",
       "      <th>bid_value</th>\n",
       "      <th>pax_fft</th>\n",
       "      <th>pax_count</th>\n",
       "      <th>fft_score</th>\n",
       "      <th>fbc_score</th>\n",
       "      <th>ph_score</th>\n",
       "      <th>bid_normalized_score</th>\n",
       "      <th>total_normalized_bid</th>\n",
       "      <th>bid_priority_score</th>\n",
       "      <th>total_bid_amount</th>\n",
       "    </tr>\n",
       "  </thead>\n",
       "  <tbody>\n",
       "    <tr>\n",
       "      <th>0</th>\n",
       "      <td>BID001</td>\n",
       "      <td>FLEX</td>\n",
       "      <td>0</td>\n",
       "      <td>1121.0</td>\n",
       "      <td>GOLD</td>\n",
       "      <td>2</td>\n",
       "      <td>1.2</td>\n",
       "      <td>1.10</td>\n",
       "      <td>1.0</td>\n",
       "      <td>1480</td>\n",
       "      <td>2960</td>\n",
       "      <td>2</td>\n",
       "      <td>2242.0</td>\n",
       "    </tr>\n",
       "    <tr>\n",
       "      <th>1</th>\n",
       "      <td>BID002</td>\n",
       "      <td>CHOICE</td>\n",
       "      <td>2</td>\n",
       "      <td>1305.0</td>\n",
       "      <td>SILVER</td>\n",
       "      <td>3</td>\n",
       "      <td>1.1</td>\n",
       "      <td>1.05</td>\n",
       "      <td>0.8</td>\n",
       "      <td>1206</td>\n",
       "      <td>3618</td>\n",
       "      <td>1</td>\n",
       "      <td>3915.0</td>\n",
       "    </tr>\n",
       "    <tr>\n",
       "      <th>2</th>\n",
       "      <td>BID003</td>\n",
       "      <td>SAVER</td>\n",
       "      <td>3</td>\n",
       "      <td>1333.0</td>\n",
       "      <td>GOLD</td>\n",
       "      <td>1</td>\n",
       "      <td>1.2</td>\n",
       "      <td>1.00</td>\n",
       "      <td>0.8</td>\n",
       "      <td>1280</td>\n",
       "      <td>1280</td>\n",
       "      <td>5</td>\n",
       "      <td>1333.0</td>\n",
       "    </tr>\n",
       "    <tr>\n",
       "      <th>3</th>\n",
       "      <td>BID004</td>\n",
       "      <td>FLEX</td>\n",
       "      <td>1</td>\n",
       "      <td>1183.0</td>\n",
       "      <td>NO FFT</td>\n",
       "      <td>2</td>\n",
       "      <td>1.0</td>\n",
       "      <td>1.10</td>\n",
       "      <td>0.8</td>\n",
       "      <td>1041</td>\n",
       "      <td>2082</td>\n",
       "      <td>3</td>\n",
       "      <td>2366.0</td>\n",
       "    </tr>\n",
       "    <tr>\n",
       "      <th>4</th>\n",
       "      <td>BID005</td>\n",
       "      <td>SAVER</td>\n",
       "      <td>5</td>\n",
       "      <td>1120.0</td>\n",
       "      <td>SILVER</td>\n",
       "      <td>1</td>\n",
       "      <td>1.1</td>\n",
       "      <td>1.00</td>\n",
       "      <td>0.5</td>\n",
       "      <td>616</td>\n",
       "      <td>616</td>\n",
       "      <td>7</td>\n",
       "      <td>1120.0</td>\n",
       "    </tr>\n",
       "    <tr>\n",
       "      <th>5</th>\n",
       "      <td>BID006</td>\n",
       "      <td>FLEX</td>\n",
       "      <td>0</td>\n",
       "      <td>1460.0</td>\n",
       "      <td>NO FFT</td>\n",
       "      <td>1</td>\n",
       "      <td>1.0</td>\n",
       "      <td>1.10</td>\n",
       "      <td>1.0</td>\n",
       "      <td>1606</td>\n",
       "      <td>1606</td>\n",
       "      <td>4</td>\n",
       "      <td>1460.0</td>\n",
       "    </tr>\n",
       "    <tr>\n",
       "      <th>6</th>\n",
       "      <td>BID007</td>\n",
       "      <td>CHOICE</td>\n",
       "      <td>0</td>\n",
       "      <td>1084.0</td>\n",
       "      <td>NO FFT</td>\n",
       "      <td>1</td>\n",
       "      <td>1.0</td>\n",
       "      <td>1.05</td>\n",
       "      <td>1.0</td>\n",
       "      <td>1138</td>\n",
       "      <td>1138</td>\n",
       "      <td>6</td>\n",
       "      <td>1084.0</td>\n",
       "    </tr>\n",
       "  </tbody>\n",
       "</table>\n",
       "</div>"
      ],
      "text/plain": [
       "  bid_order_id fare_basis_code  purchase_history  bid_value pax_fft  \\\n",
       "0       BID001            FLEX                 0     1121.0    GOLD   \n",
       "1       BID002          CHOICE                 2     1305.0  SILVER   \n",
       "2       BID003           SAVER                 3     1333.0    GOLD   \n",
       "3       BID004            FLEX                 1     1183.0  NO FFT   \n",
       "4       BID005           SAVER                 5     1120.0  SILVER   \n",
       "5       BID006            FLEX                 0     1460.0  NO FFT   \n",
       "6       BID007          CHOICE                 0     1084.0  NO FFT   \n",
       "\n",
       "   pax_count  fft_score  fbc_score  ph_score  bid_normalized_score  \\\n",
       "0          2        1.2       1.10       1.0                  1480   \n",
       "1          3        1.1       1.05       0.8                  1206   \n",
       "2          1        1.2       1.00       0.8                  1280   \n",
       "3          2        1.0       1.10       0.8                  1041   \n",
       "4          1        1.1       1.00       0.5                   616   \n",
       "5          1        1.0       1.10       1.0                  1606   \n",
       "6          1        1.0       1.05       1.0                  1138   \n",
       "\n",
       "   total_normalized_bid  bid_priority_score  total_bid_amount  \n",
       "0                  2960                   2            2242.0  \n",
       "1                  3618                   1            3915.0  \n",
       "2                  1280                   5            1333.0  \n",
       "3                  2082                   3            2366.0  \n",
       "4                   616                   7            1120.0  \n",
       "5                  1606                   4            1460.0  \n",
       "6                  1138                   6            1084.0  "
      ]
     },
     "execution_count": 202,
     "metadata": {},
     "output_type": "execute_result"
    }
   ],
   "source": [
    "pdf"
   ]
  },
  {
   "cell_type": "code",
   "execution_count": 211,
   "id": "058efcef-3c7b-4a56-a733-12db68ddd64d",
   "metadata": {},
   "outputs": [
    {
     "name": "stdout",
     "output_type": "stream",
     "text": [
      "<class 'pandas.core.frame.DataFrame'>\n",
      "RangeIndex: 7 entries, 0 to 6\n",
      "Data columns (total 13 columns):\n",
      " #   Column                Non-Null Count  Dtype  \n",
      "---  ------                --------------  -----  \n",
      " 0   bid_order_id          7 non-null      object \n",
      " 1   fare_basis_code       7 non-null      object \n",
      " 2   purchase_history      7 non-null      int64  \n",
      " 3   bid_value             7 non-null      float64\n",
      " 4   pax_fft               7 non-null      object \n",
      " 5   pax_count             7 non-null      int64  \n",
      " 6   fft_score             7 non-null      float64\n",
      " 7   fbc_score             7 non-null      float64\n",
      " 8   ph_score              7 non-null      float64\n",
      " 9   bid_normalized_score  7 non-null      int64  \n",
      " 10  total_normalized_bid  7 non-null      int64  \n",
      " 11  bid_priority_score    7 non-null      int64  \n",
      " 12  total_bid_amount      7 non-null      float64\n",
      "dtypes: float64(5), int64(5), object(3)\n",
      "memory usage: 856.0+ bytes\n"
     ]
    }
   ],
   "source": [
    "pdf.info()"
   ]
  },
  {
   "cell_type": "code",
   "execution_count": 214,
   "id": "dc515d05-dc47-4703-bcda-25c5bd60ba13",
   "metadata": {},
   "outputs": [
    {
     "name": "stdout",
     "output_type": "stream",
     "text": [
      "Index(['bid_order_id', 'fare_basis_code', 'purchase_history', 'bid_value',\n",
      "       'pax_fft', 'pax_count', 'fft_score', 'fbc_score', 'ph_score',\n",
      "       'bid_normalized_score', 'total_normalized_bid', 'bid_priority_score',\n",
      "       'total_bid_amount'],\n",
      "      dtype='object')\n"
     ]
    }
   ],
   "source": [
    "print (pdf.columns)"
   ]
  },
  {
   "cell_type": "markdown",
   "id": "abc0f885-32b7-43aa-af92-5c7e4e76e879",
   "metadata": {},
   "source": [
    "# Greedy fetch algorithm"
   ]
  },
  {
   "cell_type": "code",
   "execution_count": 207,
   "id": "bf8c7fd4-fa20-4b14-8418-3205dc0357e5",
   "metadata": {},
   "outputs": [],
   "source": [
    "df_greed = pdf.sort_values(by=\"bid_priority_score\", ascending=True)"
   ]
  },
  {
   "cell_type": "code",
   "execution_count": 208,
   "id": "b0d1813c-4119-4102-b5bc-e0e6177121ff",
   "metadata": {},
   "outputs": [],
   "source": [
    "capacity = 4\n",
    "total_weight = 0\n",
    "total_cost = 0\n",
    "selected_items = []"
   ]
  },
  {
   "cell_type": "code",
   "execution_count": 209,
   "id": "4af3be1a-6b82-4b49-b072-c22f68b82798",
   "metadata": {},
   "outputs": [],
   "source": [
    "for _, row in df_greed.iterrows():\n",
    "    weight = row['pax_count']  # Extract as scalar\n",
    "    if total_weight + weight <= capacity:\n",
    "        selected_items.append(row['bid_order_id'])\n",
    "        total_weight += row['pax_count']\n",
    "        total_cost += row['total_bid_amount']\n",
    "    if total_weight == capacity:\n",
    "        break;"
   ]
  },
  {
   "cell_type": "code",
   "execution_count": 210,
   "id": "da663be1-b66f-4eae-b784-6650b2984c72",
   "metadata": {},
   "outputs": [
    {
     "data": {
      "text/plain": [
       "5375.0"
      ]
     },
     "execution_count": 210,
     "metadata": {},
     "output_type": "execute_result"
    }
   ],
   "source": [
    "total_cost"
   ]
  },
  {
   "cell_type": "code",
   "execution_count": 231,
   "id": "40041f44-329a-4300-8ad0-a3a7c714b31c",
   "metadata": {},
   "outputs": [
    {
     "data": {
      "text/plain": [
       "['BID002', 'BID006']"
      ]
     },
     "execution_count": 231,
     "metadata": {},
     "output_type": "execute_result"
    }
   ],
   "source": [
    "selected_items"
   ]
  },
  {
   "cell_type": "code",
   "execution_count": 232,
   "id": "34aefbf5-3821-4995-8aa9-2ef4b6374ae3",
   "metadata": {},
   "outputs": [],
   "source": [
    "g_result = df_greed[df_greed['bid_order_id'].isin(selected_items)]"
   ]
  },
  {
   "cell_type": "code",
   "execution_count": 233,
   "id": "84b48d93-32cc-4336-a58c-c159db52dc15",
   "metadata": {},
   "outputs": [
    {
     "data": {
      "text/html": [
       "<div>\n",
       "<style scoped>\n",
       "    .dataframe tbody tr th:only-of-type {\n",
       "        vertical-align: middle;\n",
       "    }\n",
       "\n",
       "    .dataframe tbody tr th {\n",
       "        vertical-align: top;\n",
       "    }\n",
       "\n",
       "    .dataframe thead th {\n",
       "        text-align: right;\n",
       "    }\n",
       "</style>\n",
       "<table border=\"1\" class=\"dataframe\">\n",
       "  <thead>\n",
       "    <tr style=\"text-align: right;\">\n",
       "      <th></th>\n",
       "      <th>bid_order_id</th>\n",
       "      <th>fare_basis_code</th>\n",
       "      <th>purchase_history</th>\n",
       "      <th>bid_value</th>\n",
       "      <th>pax_fft</th>\n",
       "      <th>pax_count</th>\n",
       "      <th>fft_score</th>\n",
       "      <th>fbc_score</th>\n",
       "      <th>ph_score</th>\n",
       "      <th>bid_normalized_score</th>\n",
       "      <th>total_normalized_bid</th>\n",
       "      <th>bid_priority_score</th>\n",
       "      <th>total_bid_amount</th>\n",
       "    </tr>\n",
       "  </thead>\n",
       "  <tbody>\n",
       "    <tr>\n",
       "      <th>1</th>\n",
       "      <td>BID002</td>\n",
       "      <td>CHOICE</td>\n",
       "      <td>2</td>\n",
       "      <td>1305.0</td>\n",
       "      <td>SILVER</td>\n",
       "      <td>3</td>\n",
       "      <td>1.1</td>\n",
       "      <td>1.05</td>\n",
       "      <td>0.8</td>\n",
       "      <td>1206</td>\n",
       "      <td>3618</td>\n",
       "      <td>1</td>\n",
       "      <td>3915.0</td>\n",
       "    </tr>\n",
       "    <tr>\n",
       "      <th>5</th>\n",
       "      <td>BID006</td>\n",
       "      <td>FLEX</td>\n",
       "      <td>0</td>\n",
       "      <td>1460.0</td>\n",
       "      <td>NO FFT</td>\n",
       "      <td>1</td>\n",
       "      <td>1.0</td>\n",
       "      <td>1.10</td>\n",
       "      <td>1.0</td>\n",
       "      <td>1606</td>\n",
       "      <td>1606</td>\n",
       "      <td>4</td>\n",
       "      <td>1460.0</td>\n",
       "    </tr>\n",
       "  </tbody>\n",
       "</table>\n",
       "</div>"
      ],
      "text/plain": [
       "  bid_order_id fare_basis_code  purchase_history  bid_value pax_fft  \\\n",
       "1       BID002          CHOICE                 2     1305.0  SILVER   \n",
       "5       BID006            FLEX                 0     1460.0  NO FFT   \n",
       "\n",
       "   pax_count  fft_score  fbc_score  ph_score  bid_normalized_score  \\\n",
       "1          3        1.1       1.05       0.8                  1206   \n",
       "5          1        1.0       1.10       1.0                  1606   \n",
       "\n",
       "   total_normalized_bid  bid_priority_score  total_bid_amount  \n",
       "1                  3618                   1            3915.0  \n",
       "5                  1606                   4            1460.0  "
      ]
     },
     "execution_count": 233,
     "metadata": {},
     "output_type": "execute_result"
    }
   ],
   "source": [
    "g_result"
   ]
  },
  {
   "cell_type": "markdown",
   "id": "2f9a72dd-9e56-4c37-bb4e-ece95958c6e0",
   "metadata": {},
   "source": [
    "# response making"
   ]
  },
  {
   "cell_type": "code",
   "execution_count": 216,
   "id": "3920a027-b534-4d3b-adbd-1e2b96cfd852",
   "metadata": {},
   "outputs": [],
   "source": [
    "normalized_score = pdf.rename(columns={\n",
    "    'bid_order_id': 'bid_id',\n",
    "    'total_bid_amount': 'total_bid_vale',\n",
    "    'fft_score': 'fft_score',\n",
    "    'fbc_score': 'fbc_score',\n",
    "    'ph_score': 'purchase_history_score',\n",
    "    'bid_normalized_score': 'normalized_bid',\n",
    "    'total_normalized_bid' : 'total_normalized_bid',\n",
    "    'bid_priority_score' : 'bid_priority_score'\n",
    "})[['bid_id', 'total_bid_vale', 'fft_score', 'fbc_score', 'purchase_history_score', 'normalized_bid','total_normalized_bid','bid_priority_score']]\n"
   ]
  },
  {
   "cell_type": "code",
   "execution_count": 217,
   "id": "5930dc3d-4b52-4767-8a27-12a05ebe9d0d",
   "metadata": {},
   "outputs": [],
   "source": [
    "json_response = {\"normalized_score\": normalized_score.to_dict(orient='records')}"
   ]
  },
  {
   "cell_type": "code",
   "execution_count": null,
   "id": "048295bc-8695-47e1-a115-e8f13c27783e",
   "metadata": {},
   "outputs": [],
   "source": [
    "json_response"
   ]
  },
  {
   "cell_type": "code",
   "execution_count": 225,
   "id": "b60e88a2-eae8-4000-825f-bb8a2899079a",
   "metadata": {},
   "outputs": [],
   "source": [
    "ks_df = ksak_val[0]"
   ]
  },
  {
   "cell_type": "code",
   "execution_count": 226,
   "id": "6e269570-338f-4c23-b60e-dca4e23787c8",
   "metadata": {},
   "outputs": [
    {
     "name": "stdout",
     "output_type": "stream",
     "text": [
      "Index(['bid_order_id', 'fare_basis_code', 'purchase_history', 'bid_value',\n",
      "       'pax_fft', 'pax_count', 'fft_score', 'fbc_score', 'ph_score',\n",
      "       'bid_normalized_score', 'total_normalized_bid', 'bid_priority_score',\n",
      "       'total_bid_amount'],\n",
      "      dtype='object')\n"
     ]
    }
   ],
   "source": [
    "print(ks_df.columns)"
   ]
  },
  {
   "cell_type": "code",
   "execution_count": 228,
   "id": "2c531103-e685-4718-9be1-2a854729d5b6",
   "metadata": {},
   "outputs": [],
   "source": [
    "ks_result = ks_df.rename(\n",
    "    columns={\n",
    "        'bid_order_id': 'bid_id',\n",
    "        'bid_priority_score' : 'bid_priority_score',\n",
    "        'pax_count' : 'pax_count',\n",
    "        'total_normalized_bid': 'total_normalized_bid',\n",
    "        'total_bid_amount' : 'total_bid_amount'\n",
    "        })[['bid_id','bid_priority_score','pax_count','total_normalized_bid','total_bid_amount']]\n"
   ]
  },
  {
   "cell_type": "code",
   "execution_count": 229,
   "id": "952e2f00-7937-45e0-98f0-871730d6aad1",
   "metadata": {},
   "outputs": [],
   "source": [
    "json_response = {\"ks_result\": ks_result.to_dict(orient='records')}"
   ]
  },
  {
   "cell_type": "code",
   "execution_count": 230,
   "id": "b178e824-e0b1-4faa-98b8-ad5c9bdd436e",
   "metadata": {},
   "outputs": [
    {
     "data": {
      "text/plain": [
       "{'ks_result': [{'bid_id': 'BID001',\n",
       "   'bid_priority_score': 2,\n",
       "   'pax_count': 2,\n",
       "   'total_normalized_bid': 2960,\n",
       "   'total_bid_amount': 2242.0},\n",
       "  {'bid_id': 'BID003',\n",
       "   'bid_priority_score': 5,\n",
       "   'pax_count': 1,\n",
       "   'total_normalized_bid': 1280,\n",
       "   'total_bid_amount': 1333.0},\n",
       "  {'bid_id': 'BID006',\n",
       "   'bid_priority_score': 4,\n",
       "   'pax_count': 1,\n",
       "   'total_normalized_bid': 1606,\n",
       "   'total_bid_amount': 1460.0}]}"
      ]
     },
     "execution_count": 230,
     "metadata": {},
     "output_type": "execute_result"
    }
   ],
   "source": [
    "json_response"
   ]
  },
  {
   "cell_type": "code",
   "execution_count": null,
   "id": "0601c764-0fab-4921-b898-2d571f171deb",
   "metadata": {},
   "outputs": [],
   "source": [
    "g_result.rename()"
   ]
  }
 ],
 "metadata": {
  "kernelspec": {
   "display_name": "Python 3 (ipykernel)",
   "language": "python",
   "name": "python3"
  },
  "language_info": {
   "codemirror_mode": {
    "name": "ipython",
    "version": 3
   },
   "file_extension": ".py",
   "mimetype": "text/x-python",
   "name": "python",
   "nbconvert_exporter": "python",
   "pygments_lexer": "ipython3",
   "version": "3.10.16"
  }
 },
 "nbformat": 4,
 "nbformat_minor": 5
}
